{
 "cells": [
  {
   "cell_type": "markdown",
   "metadata": {},
   "source": [
    "# Sentiment Analysis: Machine & Deep Learnings Benchmark\n",
    "\n",
    "Authors: Konstantin Danilov, Denis Molin\n",
    "\n",
    "## Objectives\n",
    "\n",
    "This work is focused on ***sentiment analysis*** with ***Deep Learning*** using ***Keras*** and ***Tensorflow/Tensorflow-gpu*** on Python. ***Machine Learning*** algorithms will also be implemented and compared with ***Deep Learning*** implementations.\n",
    "\n",
    "## Datasets\n",
    "\n",
    "Binary and multiclass classification will be covered by two datasets:\n",
    "* the [Large Movie Review Dataset](http://ai.stanford.edu/~amaas/data/sentiment/) that contains movie reviews labelled onto two classes: positive and negative;\n",
    "* the [the Rotten Tomatoes dataset](https://www.kaggle.com/c/sentiment-analysis-on-movie-reviews/data) that contains movie reviews labelled onto 5 classes (0 - negative,1 - somewhat negative,2 - neutral,3 - somewhat positive,4 - positive)\n",
    "\n",
    "We also use a stop word list in english available in the *stopwords.en.txt* file.\n",
    "\n",
    "### Large Movie Review Dataset (LMRD)\n",
    "\n",
    "This dataset is made of 2 sets of 25,000 text files of labelled movie reviews: half with positive reviews, half with negative reviews. These 2 sets are stored in two directories named *train* and *test*. Positive and negative reviews are stored in two different subdirectories: *neg* and *pos*. The label of the review is the directory name where the review is stored."
   ]
  },
  {
   "cell_type": "code",
   "execution_count": 48,
   "metadata": {},
   "outputs": [
    {
     "name": "stdout",
     "output_type": "stream",
     "text": [
      "preprocess the training data & store the preprocessed data into the idbm_training.csv file\n",
      "preprocess the test data & store the preprocessed data into the ibdm_test.csv file\n"
     ]
    }
   ],
   "source": [
    "# pathes where the text files are stored\n",
    "LMRD_train_path = \"./aclImdb/train/\"\n",
    "LMRD_test_path = \"./aclImdb/test/\"\n",
    "\n",
    "# build a data frame of two columns with the text of the review in the first\n",
    "# column and the class of the review in the second column: 1 for positive, \n",
    "# 0 for negative. We store the data frame in a csv file for comodity.\n",
    "import os.path as op\n",
    "from glob import glob\n",
    "import pandas as pd\n",
    "import numpy as np\n",
    "\n",
    "def imdb_data_preprocess(inpath, outpath=\"./\", name=\"imdb_training.csv\", mix=False):\n",
    "    \n",
    "   filenames_neg = sorted(glob(op.join(inpath, 'neg', '*.txt')))\n",
    "   filenames_pos = sorted(glob(op.join(inpath, 'pos', '*.txt')))\n",
    "   \n",
    "   texts_neg = [open(f, 'rt', encoding='latin1').read() for f in filenames_neg]\n",
    "   texts_pos = [open(f, 'rt', encoding='latin1').read() for f in filenames_pos]\n",
    "\n",
    "   texts = texts_neg + texts_pos\n",
    "   y     = np.ones(len(texts), dtype=np.int)\n",
    "   y[:len(texts_neg)] = 0    \n",
    "\n",
    "   d = {'text':texts,'polarity':y}\n",
    "   mydf = pd.DataFrame(data=d)\n",
    "   \n",
    "   mydf.to_csv(op.join(outpath,name),sep=',',index=True,index_label='',header=True,columns=[\"text\",\"polarity\"])\n",
    "\n",
    "print(\"preprocess the training data & store the preprocessed data into the idbm_training.csv file\")\n",
    "imdb_data_preprocess(LMRD_train_path)\n",
    "\n",
    "print(\"preprocess the test data & store the preprocessed data into the ibdm_test.csv file\")\n",
    "imdb_data_preprocess(LMRD_test_path, name=\"imdb_test.csv\")\n"
   ]
  },
  {
   "cell_type": "markdown",
   "metadata": {},
   "source": [
    "## Machine Learning Approach\n",
    "\n",
    "First, we load the english stop word list."
   ]
  },
  {
   "cell_type": "code",
   "execution_count": 49,
   "metadata": {},
   "outputs": [
    {
     "name": "stdout",
     "output_type": "stream",
     "text": [
      "read the stop words\n",
      "read the preprocessed data from the csv file\n"
     ]
    }
   ],
   "source": [
    "#read the stop words\n",
    "print(\"read the stop words\")\n",
    "stop_words = open('stopwords.en.txt').read()\n",
    "stop_words = stop_words.split(sep=\"\\n\")\n",
    "stop_words.pop()\n",
    "\n",
    "#read the data\n",
    "print(\"read the preprocessed data from the csv file\")\n",
    "df = pd.read_csv('imdb_training.csv', encoding='latin1')"
   ]
  },
  {
   "cell_type": "markdown",
   "metadata": {},
   "source": [
    "### Bag-of-Word\n",
    "\n",
    "Here we transform the data using n-gram representations.\n",
    "\n",
    "***EXPLANATION OF WHAT BAG OF WORD IS AND WHAT N-GRAM MEANS***\n",
    "\n",
    "#### Unigram representation"
   ]
  },
  {
   "cell_type": "code",
   "execution_count": 56,
   "metadata": {},
   "outputs": [
    {
     "name": "stdout",
     "output_type": "stream",
     "text": [
      "make the unigram representation\n"
     ]
    }
   ],
   "source": [
    "from sklearn.feature_extraction.text import CountVectorizer\n",
    "\n",
    "# make the unigram representation\n",
    "print(\"make the unigram representation\")\n",
    "myCountVectorizerUnigram = CountVectorizer(ngram_range=(1, 1), analyzer='word', stop_words=stop_words)\n",
    "X_unigram = myCountVectorizerUnigram.fit_transform(df.text)"
   ]
  },
  {
   "cell_type": "markdown",
   "metadata": {},
   "source": [
    "#### Bigram representation"
   ]
  },
  {
   "cell_type": "code",
   "execution_count": 57,
   "metadata": {},
   "outputs": [
    {
     "name": "stdout",
     "output_type": "stream",
     "text": [
      "make the bigram representation\n"
     ]
    }
   ],
   "source": [
    "# make the bigram representation\n",
    "print(\"make the bigram representation\")\n",
    "myCountVectorizerBigram = CountVectorizer(ngram_range=(1, 2), analyzer='word', stop_words=stop_words)\n",
    "X_bigram = myCountVectorizerBigram.fit_transform(df.text)\n"
   ]
  },
  {
   "cell_type": "markdown",
   "metadata": {},
   "source": [
    "#### Unigram representation (term-frequency times inverse document-frequency)"
   ]
  },
  {
   "cell_type": "code",
   "execution_count": 58,
   "metadata": {},
   "outputs": [
    {
     "name": "stdout",
     "output_type": "stream",
     "text": [
      "make the bigramtfidf representation\n"
     ]
    }
   ],
   "source": [
    "from sklearn.feature_extraction.text import TfidfVectorizer\n",
    "print(\"make the bigramtfidf representation\")\n",
    "myTfidfVectorizerUnigram = TfidfVectorizer(ngram_range=(1, 2), analyzer='word', stop_words=stop_words)\n",
    "X_unigram_tfidf= myTfidfVectorizerUnigram.fit_transform(df.text)\n"
   ]
  },
  {
   "cell_type": "markdown",
   "metadata": {},
   "source": [
    "#### Bigram representation (term-frequency times inverse document-frequency)"
   ]
  },
  {
   "cell_type": "code",
   "execution_count": 59,
   "metadata": {},
   "outputs": [
    {
     "name": "stdout",
     "output_type": "stream",
     "text": [
      "make the bigramtfidf representation\n"
     ]
    }
   ],
   "source": [
    "print(\"make the bigramtfidf representation\")\n",
    "myTfidfVectorizerBigram = TfidfVectorizer(ngram_range=(1, 2), analyzer='word', stop_words=stop_words)\n",
    "X_bigram_tfidf = myTfidfVectorizerBigram.fit_transform(df.text)\n"
   ]
  },
  {
   "cell_type": "markdown",
   "metadata": {},
   "source": [
    "### Model training & testing"
   ]
  },
  {
   "cell_type": "code",
   "execution_count": 60,
   "metadata": {},
   "outputs": [
    {
     "name": "stdout",
     "output_type": "stream",
     "text": [
      "read the test data\n",
      "train a SGD classifier using a given representation\n"
     ]
    },
    {
     "name": "stderr",
     "output_type": "stream",
     "text": [
      "C:\\Users\\DM250067\\AppData\\Local\\Continuum\\anaconda3\\envs\\tensorflow-gpu\\lib\\site-packages\\sklearn\\linear_model\\stochastic_gradient.py:128: FutureWarning: max_iter and tol parameters have been added in <class 'sklearn.linear_model.stochastic_gradient.SGDClassifier'> in 0.19. If both are left unset, they default to max_iter=5 and tol=None. If tol is not None, max_iter defaults to max_iter=1000. From 0.21, default max_iter will be 1000, and default tol will be 1e-3.\n",
      "  \"and default tol will be 1e-3.\" % type(self), FutureWarning)\n"
     ]
    },
    {
     "name": "stdout",
     "output_type": "stream",
     "text": [
      "test the SGD classifier on the test data\n"
     ]
    }
   ],
   "source": [
    "from sklearn import linear_model\n",
    "\n",
    "# read the test data\n",
    "print(\"read the test data\")\n",
    "df_test = pd.read_csv('imdb_test.csv',encoding='latin1')\n",
    "\n",
    "# train a SGD classifier \n",
    "print(\"train a SGD classifier using a given representation\")\n",
    "myClassifier = linear_model.SGDClassifier(loss=\"hinge\",penalty=\"l1\")\n",
    "myClassifier.fit(X_unigram,df.polarity)\n",
    "\n",
    "# make the unigram representation of the test data\n",
    "X_test = myCountVectorizerUnigram.transform(df_test.text)\n",
    "\n",
    "# test the SGD classifier on the test data\n",
    "print(\"test the SGD classifier on the test data\")\n",
    "res = myClassifier.predict(X_test)\n",
    "\n"
   ]
  },
  {
   "cell_type": "code",
   "execution_count": 61,
   "metadata": {},
   "outputs": [],
   "source": [
    "from sklearn.metrics import confusion_matrix\n",
    "cm = confusion_matrix(df_test.polarity, res)\n",
    "\n",
    "import matplotlib.pyplot as plt\n",
    "import itertools\n",
    "def plot_confusion_matrix(cm, classes,\n",
    "                          normalize=False,\n",
    "                          title='Confusion matrix',\n",
    "                          cmap=plt.cm.Blues):\n",
    "    \"\"\"\n",
    "    This function prints and plots the confusion matrix.\n",
    "    Normalization can be applied by setting `normalize=True`.\n",
    "    \"\"\"\n",
    "    if normalize:\n",
    "        cm = cm.astype('float') / cm.sum(axis=1)[:, np.newaxis]\n",
    "        print(\"Normalized confusion matrix\")\n",
    "    else:\n",
    "        print('Confusion matrix, without normalization')\n",
    "\n",
    "    print(cm)\n",
    "\n",
    "    plt.imshow(cm, interpolation='nearest', cmap=cmap)\n",
    "    plt.title(title)\n",
    "    plt.colorbar()\n",
    "    tick_marks = np.arange(len(classes))\n",
    "    plt.xticks(tick_marks, classes, rotation=45)\n",
    "    plt.yticks(tick_marks, classes)\n",
    "\n",
    "    fmt = '.2f' if normalize else 'd'\n",
    "    thresh = cm.max() / 2.\n",
    "    for i, j in itertools.product(range(cm.shape[0]), range(cm.shape[1])):\n",
    "        plt.text(j, i, format(cm[i, j], fmt),\n",
    "                 horizontalalignment=\"center\",\n",
    "                 color=\"white\" if cm[i, j] > thresh else \"black\")\n",
    "\n",
    "    plt.tight_layout()\n",
    "    plt.ylabel('True label')\n",
    "    plt.xlabel('Predicted label')"
   ]
  },
  {
   "cell_type": "code",
   "execution_count": 62,
   "metadata": {},
   "outputs": [
    {
     "name": "stdout",
     "output_type": "stream",
     "text": [
      "Confusion matrix, without normalization\n",
      "[[10899  1601]\n",
      " [ 2088 10412]]\n"
     ]
    },
    {
     "data": {
      "image/png": "[encoded data removed]",
      "text/plain": [
       "<matplotlib.figure.Figure at 0x24415e37a58>"
      ]
     },
     "metadata": {},
     "output_type": "display_data"
    }
   ],
   "source": [
    "plot_confusion_matrix(cm, {'negative': 0, 'positive': 1})"
   ]
  },
  {
   "cell_type": "code",
   "execution_count": 63,
   "metadata": {},
   "outputs": [
    {
     "name": "stdout",
     "output_type": "stream",
     "text": [
      "model accuracy: 85.244%\n"
     ]
    }
   ],
   "source": [
    "print(\"model accuracy: \"+str((cm[0,0]+cm[1,1])/sum(sum(cm))*100)+\"%\")"
   ]
  },
  {
   "cell_type": "code",
   "execution_count": 67,
   "metadata": {},
   "outputs": [
    {
     "name": "stdout",
     "output_type": "stream",
     "text": [
      "train a SGD classifier using a given representation\n"
     ]
    },
    {
     "name": "stderr",
     "output_type": "stream",
     "text": [
      "C:\\Users\\DM250067\\AppData\\Local\\Continuum\\anaconda3\\envs\\tensorflow-gpu\\lib\\site-packages\\sklearn\\linear_model\\stochastic_gradient.py:128: FutureWarning: max_iter and tol parameters have been added in <class 'sklearn.linear_model.stochastic_gradient.SGDClassifier'> in 0.19. If both are left unset, they default to max_iter=5 and tol=None. If tol is not None, max_iter defaults to max_iter=1000. From 0.21, default max_iter will be 1000, and default tol will be 1e-3.\n",
      "  \"and default tol will be 1e-3.\" % type(self), FutureWarning)\n"
     ]
    },
    {
     "name": "stdout",
     "output_type": "stream",
     "text": [
      "test the SGD classifier on the test data\n",
      "Confusion matrix, without normalization\n",
      "[[10992  1508]\n",
      " [ 1329 11171]]\n",
      "model accuracy: 88.652%\n"
     ]
    },
    {
     "data": {
      "image/png": "[encoded data removed]",
      "text/plain": [
       "<matplotlib.figure.Figure at 0x244145f5198>"
      ]
     },
     "metadata": {},
     "output_type": "display_data"
    }
   ],
   "source": [
    "# train a SGD classifier \n",
    "print(\"train a SGD classifier using a given representation\")\n",
    "myClassifier = linear_model.SGDClassifier(loss=\"hinge\",penalty=\"l2\")\n",
    "myClassifier.fit(X_bigram_tfidf,df.polarity)\n",
    "\n",
    "# make the unigram representation of the test data\n",
    "X_test = myTfidfVectorizerBigram.transform(df_test.text)\n",
    "\n",
    "# test the SGD classifier on the test data\n",
    "print(\"test the SGD classifier on the test data\")\n",
    "res = myClassifier.predict(X_test)\n",
    "\n",
    "# confusion matrix computation & plot\n",
    "cm = confusion_matrix(df_test.polarity, res)\n",
    "plot_confusion_matrix(cm, {'negative': 0, 'positive': 1})\n",
    "print(\"model accuracy: \"+str((cm[0,0]+cm[1,1])/sum(sum(cm))*100)+\"%\")"
   ]
  },
  {
   "cell_type": "code",
   "execution_count": null,
   "metadata": {},
   "outputs": [],
   "source": []
  }
 ],
 "metadata": {
  "kernelspec": {
   "display_name": "Python 3",
   "language": "python",
   "name": "python3"
  },
  "language_info": {
   "codemirror_mode": {
    "name": "ipython",
    "version": 3
   },
   "file_extension": ".py",
   "mimetype": "text/x-python",
   "name": "python",
   "nbconvert_exporter": "python",
   "pygments_lexer": "ipython3",
   "version": "3.6.4"
  }
 },
 "nbformat": 4,
 "nbformat_minor": 2
}
